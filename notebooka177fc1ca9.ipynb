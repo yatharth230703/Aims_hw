{
 "cells": [
  {
   "cell_type": "code",
   "execution_count": 1,
   "id": "b1ca2632",
   "metadata": {
    "_cell_guid": "b1076dfc-b9ad-4769-8c92-a6c4dae69d19",
    "_uuid": "8f2839f25d086af736a60e9eeb907d3b93b6e0e5",
    "execution": {
     "iopub.execute_input": "2023-12-13T15:20:44.728056Z",
     "iopub.status.busy": "2023-12-13T15:20:44.727515Z",
     "iopub.status.idle": "2023-12-13T15:20:45.267462Z",
     "shell.execute_reply": "2023-12-13T15:20:45.266157Z"
    },
    "papermill": {
     "duration": 0.550662,
     "end_time": "2023-12-13T15:20:45.270343",
     "exception": false,
     "start_time": "2023-12-13T15:20:44.719681",
     "status": "completed"
    },
    "tags": []
   },
   "outputs": [
    {
     "name": "stdout",
     "output_type": "stream",
     "text": [
      "   Value_1  Value_2  Value_3  Value_4  Value_5  Value_6  Value_7  Value_8  \\\n",
      "0      NaN      NaN     20.0      NaN     41.0      NaN      NaN      NaN   \n",
      "1     14.0     24.0     16.0      2.0      2.0      2.0      2.0      2.0   \n",
      "2     35.0     54.0      NaN     54.0     54.0     54.0     54.0     54.0   \n",
      "3      NaN      3.0      3.0      3.0      3.0      3.0      3.0      3.0   \n",
      "4      1.0      NaN      8.0      NaN      NaN     57.0      NaN      NaN   \n",
      "5     12.0      NaN      NaN     14.0     14.0     14.0     14.0     14.0   \n",
      "6     74.0      2.0      2.0      3.0      3.0      3.0      3.0      3.0   \n",
      "7     65.0     54.0     54.0      NaN      NaN      NaN      1.0      NaN   \n",
      "8      NaN      3.0      3.0      NaN      NaN      NaN      NaN     90.0   \n",
      "9      1.0      NaN      NaN      6.0      6.0      6.0      6.0      6.0   \n",
      "\n",
      "   Value_9  \n",
      "0      NaN  \n",
      "1      2.0  \n",
      "2     54.0  \n",
      "3      3.0  \n",
      "4      NaN  \n",
      "5     14.0  \n",
      "6      3.0  \n",
      "7    121.0  \n",
      "8      NaN  \n",
      "9      6.0  \n"
     ]
    },
    {
     "data": {
      "text/html": [
       "<div>\n",
       "<style scoped>\n",
       "    .dataframe tbody tr th:only-of-type {\n",
       "        vertical-align: middle;\n",
       "    }\n",
       "\n",
       "    .dataframe tbody tr th {\n",
       "        vertical-align: top;\n",
       "    }\n",
       "\n",
       "    .dataframe thead th {\n",
       "        text-align: right;\n",
       "    }\n",
       "</style>\n",
       "<table border=\"1\" class=\"dataframe\">\n",
       "  <thead>\n",
       "    <tr style=\"text-align: right;\">\n",
       "      <th></th>\n",
       "      <th>Value_1</th>\n",
       "      <th>Value_2</th>\n",
       "      <th>Value_3</th>\n",
       "      <th>Value_4</th>\n",
       "      <th>Value_5</th>\n",
       "      <th>Value_6</th>\n",
       "      <th>Value_7</th>\n",
       "      <th>Value_8</th>\n",
       "      <th>Value_9</th>\n",
       "    </tr>\n",
       "  </thead>\n",
       "  <tbody>\n",
       "    <tr>\n",
       "      <th>0</th>\n",
       "      <td>NaN</td>\n",
       "      <td>NaN</td>\n",
       "      <td>20.0</td>\n",
       "      <td>NaN</td>\n",
       "      <td>41.0</td>\n",
       "      <td>NaN</td>\n",
       "      <td>NaN</td>\n",
       "      <td>NaN</td>\n",
       "      <td>NaN</td>\n",
       "    </tr>\n",
       "    <tr>\n",
       "      <th>1</th>\n",
       "      <td>14.0</td>\n",
       "      <td>24.0</td>\n",
       "      <td>16.0</td>\n",
       "      <td>2.0</td>\n",
       "      <td>2.0</td>\n",
       "      <td>2.0</td>\n",
       "      <td>2.0</td>\n",
       "      <td>2.0</td>\n",
       "      <td>2.0</td>\n",
       "    </tr>\n",
       "    <tr>\n",
       "      <th>2</th>\n",
       "      <td>35.0</td>\n",
       "      <td>54.0</td>\n",
       "      <td>NaN</td>\n",
       "      <td>54.0</td>\n",
       "      <td>54.0</td>\n",
       "      <td>54.0</td>\n",
       "      <td>54.0</td>\n",
       "      <td>54.0</td>\n",
       "      <td>54.0</td>\n",
       "    </tr>\n",
       "    <tr>\n",
       "      <th>3</th>\n",
       "      <td>NaN</td>\n",
       "      <td>3.0</td>\n",
       "      <td>3.0</td>\n",
       "      <td>3.0</td>\n",
       "      <td>3.0</td>\n",
       "      <td>3.0</td>\n",
       "      <td>3.0</td>\n",
       "      <td>3.0</td>\n",
       "      <td>3.0</td>\n",
       "    </tr>\n",
       "    <tr>\n",
       "      <th>4</th>\n",
       "      <td>1.0</td>\n",
       "      <td>NaN</td>\n",
       "      <td>8.0</td>\n",
       "      <td>NaN</td>\n",
       "      <td>NaN</td>\n",
       "      <td>57.0</td>\n",
       "      <td>NaN</td>\n",
       "      <td>NaN</td>\n",
       "      <td>NaN</td>\n",
       "    </tr>\n",
       "  </tbody>\n",
       "</table>\n",
       "</div>"
      ],
      "text/plain": [
       "   Value_1  Value_2  Value_3  Value_4  Value_5  Value_6  Value_7  Value_8  \\\n",
       "0      NaN      NaN     20.0      NaN     41.0      NaN      NaN      NaN   \n",
       "1     14.0     24.0     16.0      2.0      2.0      2.0      2.0      2.0   \n",
       "2     35.0     54.0      NaN     54.0     54.0     54.0     54.0     54.0   \n",
       "3      NaN      3.0      3.0      3.0      3.0      3.0      3.0      3.0   \n",
       "4      1.0      NaN      8.0      NaN      NaN     57.0      NaN      NaN   \n",
       "\n",
       "   Value_9  \n",
       "0      NaN  \n",
       "1      2.0  \n",
       "2     54.0  \n",
       "3      3.0  \n",
       "4      NaN  "
      ]
     },
     "execution_count": 1,
     "metadata": {},
     "output_type": "execute_result"
    }
   ],
   "source": [
    "import pandas as pd\n",
    "import numpy as np\n",
    "\n",
    "df = pd.DataFrame({\"Value_1\":[None, 14, 35, None, 1,12, 74, 65, None, 1],\n",
    "                   \"Value_2\":[None, 24, 54, 3, None,None, 2, 54, 3, None],\n",
    "                   \"Value_3\":[20, 16, None, 3, 8,None, 2, 54, 3, None],\n",
    "                   \"Value_4\":[None, 2, 54, 3, None,14, 3, None, None, 6],\n",
    "                   \"Value_5\":[41, 2, 54, 3, None,14, 3, None, None, 6],\n",
    "                   \"Value_6\":[None, 2, 54, 3, 57,14, 3, None, None, 6],\n",
    "                   \"Value_7\":[None, 2, 54, 3, None,14, 3, 1, None, 6],\n",
    "                   \"Value_8\":[None, 2, 54, 3, None,14, 3, None, 90, 6],\n",
    "                   \"Value_9\":[None, 2, 54, 3, None,14, 3, 121, None, 6]})\n",
    "print(df)\n",
    "df.head()"
   ]
  },
  {
   "cell_type": "code",
   "execution_count": 2,
   "id": "021dac21",
   "metadata": {
    "execution": {
     "iopub.execute_input": "2023-12-13T15:20:45.283542Z",
     "iopub.status.busy": "2023-12-13T15:20:45.282977Z",
     "iopub.status.idle": "2023-12-13T15:20:45.303801Z",
     "shell.execute_reply": "2023-12-13T15:20:45.302147Z"
    },
    "papermill": {
     "duration": 0.031206,
     "end_time": "2023-12-13T15:20:45.307327",
     "exception": false,
     "start_time": "2023-12-13T15:20:45.276121",
     "status": "completed"
    },
    "tags": []
   },
   "outputs": [
    {
     "name": "stdout",
     "output_type": "stream",
     "text": [
      "   Value_1  Value_2  Value_3  Value_4  Value_5  Value_6  Value_7  Value_8  \\\n",
      "0     <NA>     <NA>       20     <NA>       41     <NA>     <NA>     <NA>   \n",
      "1       14       24       16        2        2        2        2        2   \n",
      "2       35       54     <NA>       54       54       54       54       54   \n",
      "3     <NA>        3        3        3        3        3        3        3   \n",
      "4        1     <NA>        8     <NA>     <NA>       57     <NA>     <NA>   \n",
      "5       12     <NA>     <NA>       14       14       14       14       14   \n",
      "6       74        2        2        3        3        3        3        3   \n",
      "7       65       54       54     <NA>     <NA>     <NA>        1     <NA>   \n",
      "8     <NA>        3        3     <NA>     <NA>     <NA>     <NA>       90   \n",
      "9        1     <NA>     <NA>        6        6        6        6        6   \n",
      "\n",
      "   Value_9  \n",
      "0     <NA>  \n",
      "1        2  \n",
      "2       54  \n",
      "3        3  \n",
      "4     <NA>  \n",
      "5       14  \n",
      "6        3  \n",
      "7      121  \n",
      "8     <NA>  \n",
      "9        6  \n"
     ]
    }
   ],
   "source": [
    "\"\"\"\n",
    "df=df.astype ({\n",
    "    \"Value_1\": pd.Int64Dtype(),\n",
    "    \"Value_2\": pd.Int64Dtype(),\n",
    "    \"Value_3\": pd.Int64Dtype(),\n",
    "    \"Value_4\": pd.Int64Dtype(),\n",
    "    \"Value_5\": pd.Int64Dtype(),\n",
    "    \"Value_6\": pd.Int64Dtype(),\n",
    "    \"Value_7\": pd.Int64Dtype(),\n",
    "    \"Value_8\": pd.Int64Dtype(),\n",
    "    \"Value_9\": pd.Int64Dtype()\n",
    "})\n",
    "\"\"\"\n",
    "df = df.convert_dtypes()\n",
    "print(df)"
   ]
  },
  {
   "cell_type": "code",
   "execution_count": 3,
   "id": "0169ef11",
   "metadata": {
    "execution": {
     "iopub.execute_input": "2023-12-13T15:20:45.320533Z",
     "iopub.status.busy": "2023-12-13T15:20:45.320059Z",
     "iopub.status.idle": "2023-12-13T15:20:45.332760Z",
     "shell.execute_reply": "2023-12-13T15:20:45.331501Z"
    },
    "papermill": {
     "duration": 0.022541,
     "end_time": "2023-12-13T15:20:45.335533",
     "exception": false,
     "start_time": "2023-12-13T15:20:45.312992",
     "status": "completed"
    },
    "tags": []
   },
   "outputs": [
    {
     "name": "stdout",
     "output_type": "stream",
     "text": [
      "1\n"
     ]
    }
   ],
   "source": [
    "print(max(df['Value_1'].mode()))"
   ]
  },
  {
   "cell_type": "code",
   "execution_count": null,
   "id": "6c3d2f69",
   "metadata": {
    "papermill": {
     "duration": 0.005246,
     "end_time": "2023-12-13T15:20:45.346541",
     "exception": false,
     "start_time": "2023-12-13T15:20:45.341295",
     "status": "completed"
    },
    "tags": []
   },
   "outputs": [],
   "source": []
  },
  {
   "cell_type": "code",
   "execution_count": 4,
   "id": "6ea36bba",
   "metadata": {
    "execution": {
     "iopub.execute_input": "2023-12-13T15:20:45.359488Z",
     "iopub.status.busy": "2023-12-13T15:20:45.359039Z",
     "iopub.status.idle": "2023-12-13T15:20:45.366022Z",
     "shell.execute_reply": "2023-12-13T15:20:45.364147Z"
    },
    "papermill": {
     "duration": 0.016773,
     "end_time": "2023-12-13T15:20:45.368796",
     "exception": false,
     "start_time": "2023-12-13T15:20:45.352023",
     "status": "completed"
    },
    "tags": []
   },
   "outputs": [],
   "source": [
    "def impute_mean(df):\n",
    "    df = df.convert_dtypes()\n",
    "    column_names = df.columns.tolist()\n",
    "    for i in column_names:\n",
    "        df[i].fillna(int(df[i].mean()),inplace=True)\n",
    "    return df"
   ]
  },
  {
   "cell_type": "code",
   "execution_count": 5,
   "id": "e7a85559",
   "metadata": {
    "execution": {
     "iopub.execute_input": "2023-12-13T15:20:45.381977Z",
     "iopub.status.busy": "2023-12-13T15:20:45.381583Z",
     "iopub.status.idle": "2023-12-13T15:20:45.388038Z",
     "shell.execute_reply": "2023-12-13T15:20:45.386646Z"
    },
    "papermill": {
     "duration": 0.016393,
     "end_time": "2023-12-13T15:20:45.390779",
     "exception": false,
     "start_time": "2023-12-13T15:20:45.374386",
     "status": "completed"
    },
    "tags": []
   },
   "outputs": [],
   "source": [
    "def impute_median(df):\n",
    "    df = df.convert_dtypes()\n",
    "    column_names = df.columns.tolist()\n",
    "    for i in column_names:\n",
    "        df[i].fillna(int(df[i].median()),inplace=True)\n",
    "    return df"
   ]
  },
  {
   "cell_type": "code",
   "execution_count": 6,
   "id": "e96d2312",
   "metadata": {
    "execution": {
     "iopub.execute_input": "2023-12-13T15:20:45.404125Z",
     "iopub.status.busy": "2023-12-13T15:20:45.403726Z",
     "iopub.status.idle": "2023-12-13T15:20:45.409984Z",
     "shell.execute_reply": "2023-12-13T15:20:45.408524Z"
    },
    "papermill": {
     "duration": 0.016099,
     "end_time": "2023-12-13T15:20:45.412638",
     "exception": false,
     "start_time": "2023-12-13T15:20:45.396539",
     "status": "completed"
    },
    "tags": []
   },
   "outputs": [],
   "source": [
    "def impute_mode(df):\n",
    "    df = df.convert_dtypes()\n",
    "    column_names = df.columns.tolist()\n",
    "    for i in column_names:\n",
    "        df[i].fillna(int(max(df[i].mode())),inplace=True)\n",
    "    return df"
   ]
  },
  {
   "cell_type": "code",
   "execution_count": 7,
   "id": "c6a701ea",
   "metadata": {
    "execution": {
     "iopub.execute_input": "2023-12-13T15:20:45.426577Z",
     "iopub.status.busy": "2023-12-13T15:20:45.426111Z",
     "iopub.status.idle": "2023-12-13T15:20:45.431847Z",
     "shell.execute_reply": "2023-12-13T15:20:45.430898Z"
    },
    "papermill": {
     "duration": 0.015574,
     "end_time": "2023-12-13T15:20:45.434325",
     "exception": false,
     "start_time": "2023-12-13T15:20:45.418751",
     "status": "completed"
    },
    "tags": []
   },
   "outputs": [],
   "source": [
    "def impute_const(df):\n",
    "    df = df.convert_dtypes()\n",
    "    column_names = df.columns.tolist()\n",
    "    for i in column_names:\n",
    "        df[i].fillna(int(0),inplace=True)\n",
    "    return df"
   ]
  },
  {
   "cell_type": "code",
   "execution_count": 8,
   "id": "dcb5bee9",
   "metadata": {
    "execution": {
     "iopub.execute_input": "2023-12-13T15:20:45.448971Z",
     "iopub.status.busy": "2023-12-13T15:20:45.448546Z",
     "iopub.status.idle": "2023-12-13T15:20:45.471537Z",
     "shell.execute_reply": "2023-12-13T15:20:45.469741Z"
    },
    "papermill": {
     "duration": 0.033127,
     "end_time": "2023-12-13T15:20:45.474350",
     "exception": false,
     "start_time": "2023-12-13T15:20:45.441223",
     "status": "completed"
    },
    "tags": []
   },
   "outputs": [
    {
     "name": "stdout",
     "output_type": "stream",
     "text": [
      "   Value_1  Value_2  Value_3  Value_4  Value_5  Value_6  Value_7  Value_8  \\\n",
      "0        0        0       20        0       41        0        0        0   \n",
      "1       14       24       16        2        2        2        2        2   \n",
      "2       35       54        0       54       54       54       54       54   \n",
      "3        0        3        3        3        3        3        3        3   \n",
      "4        1        0        8        0        0       57        0        0   \n",
      "5       12        0        0       14       14       14       14       14   \n",
      "6       74        2        2        3        3        3        3        3   \n",
      "7       65       54       54        0        0        0        1        0   \n",
      "8        0        3        3        0        0        0        0       90   \n",
      "9        1        0        0        6        6        6        6        6   \n",
      "\n",
      "   Value_9  \n",
      "0        0  \n",
      "1        2  \n",
      "2       54  \n",
      "3        3  \n",
      "4        0  \n",
      "5       14  \n",
      "6        3  \n",
      "7      121  \n",
      "8        0  \n",
      "9        6  \n"
     ]
    }
   ],
   "source": [
    "def SimpleImputer(df , b ):\n",
    "    if (b == \"mean\"):\n",
    "        df =impute_mean(df)\n",
    "    elif (b==\"median\"):\n",
    "         df =impute_median(df)\n",
    "    elif (b==\"mode\"):\n",
    "        df= impute_mode(df)\n",
    "    else:\n",
    "        df = impute_const(df)\n",
    "    return df\n",
    "df = SimpleImputer(df, \"kuch bhi\")\n",
    "print (df)"
   ]
  },
  {
   "cell_type": "code",
   "execution_count": 9,
   "id": "bf71d7fc",
   "metadata": {
    "execution": {
     "iopub.execute_input": "2023-12-13T15:20:45.489104Z",
     "iopub.status.busy": "2023-12-13T15:20:45.488254Z",
     "iopub.status.idle": "2023-12-13T15:20:45.511569Z",
     "shell.execute_reply": "2023-12-13T15:20:45.510471Z"
    },
    "papermill": {
     "duration": 0.034015,
     "end_time": "2023-12-13T15:20:45.514283",
     "exception": false,
     "start_time": "2023-12-13T15:20:45.480268",
     "status": "completed"
    },
    "tags": []
   },
   "outputs": [
    {
     "name": "stdout",
     "output_type": "stream",
     "text": [
      "   Value_1  Value_2  Value_3  Value_4  Value_5  Value_6  Value_7  Value_8  \\\n",
      "0        0        0       20        0       41        0        0        0   \n",
      "1       14       24       16        2        2        2        2        2   \n",
      "2       35       54        0       54       54       54       54       54   \n",
      "3        0        3        3        3        3        3        3        3   \n",
      "4        1        0        8        0        0       57        0        0   \n",
      "5       12        0        0       14       14       14       14       14   \n",
      "6       74        2        2        3        3        3        3        3   \n",
      "7       65       54       54        0        0        0        1        0   \n",
      "8        0        3        3        0        0        0        0       90   \n",
      "9        1        0        0        6        6        6        6        6   \n",
      "\n",
      "   Value_9  \n",
      "0        0  \n",
      "1        2  \n",
      "2       54  \n",
      "3        3  \n",
      "4        0  \n",
      "5       14  \n",
      "6        3  \n",
      "7      121  \n",
      "8        0  \n",
      "9        6  \n"
     ]
    }
   ],
   "source": [
    "df = SimpleImputer(df, \"median\")\n",
    "print (df)"
   ]
  },
  {
   "cell_type": "code",
   "execution_count": 10,
   "id": "169c5706",
   "metadata": {
    "execution": {
     "iopub.execute_input": "2023-12-13T15:20:45.528293Z",
     "iopub.status.busy": "2023-12-13T15:20:45.527846Z",
     "iopub.status.idle": "2023-12-13T15:20:45.552277Z",
     "shell.execute_reply": "2023-12-13T15:20:45.551407Z"
    },
    "papermill": {
     "duration": 0.034718,
     "end_time": "2023-12-13T15:20:45.555204",
     "exception": false,
     "start_time": "2023-12-13T15:20:45.520486",
     "status": "completed"
    },
    "tags": []
   },
   "outputs": [
    {
     "name": "stdout",
     "output_type": "stream",
     "text": [
      "   Value_1  Value_2  Value_3  Value_4  Value_5  Value_6  Value_7  Value_8  \\\n",
      "0        0        0       20        0       41        0        0        0   \n",
      "1       14       24       16        2        2        2        2        2   \n",
      "2       35       54        0       54       54       54       54       54   \n",
      "3        0        3        3        3        3        3        3        3   \n",
      "4        1        0        8        0        0       57        0        0   \n",
      "5       12        0        0       14       14       14       14       14   \n",
      "6       74        2        2        3        3        3        3        3   \n",
      "7       65       54       54        0        0        0        1        0   \n",
      "8        0        3        3        0        0        0        0       90   \n",
      "9        1        0        0        6        6        6        6        6   \n",
      "\n",
      "   Value_9  \n",
      "0        0  \n",
      "1        2  \n",
      "2       54  \n",
      "3        3  \n",
      "4        0  \n",
      "5       14  \n",
      "6        3  \n",
      "7      121  \n",
      "8        0  \n",
      "9        6  \n"
     ]
    }
   ],
   "source": [
    "df = SimpleImputer(df, \"mode\")\n",
    "print (df)"
   ]
  },
  {
   "cell_type": "code",
   "execution_count": 11,
   "id": "22fbea3e",
   "metadata": {
    "execution": {
     "iopub.execute_input": "2023-12-13T15:20:45.569000Z",
     "iopub.status.busy": "2023-12-13T15:20:45.568591Z",
     "iopub.status.idle": "2023-12-13T15:20:45.585830Z",
     "shell.execute_reply": "2023-12-13T15:20:45.584607Z"
    },
    "papermill": {
     "duration": 0.027564,
     "end_time": "2023-12-13T15:20:45.588814",
     "exception": false,
     "start_time": "2023-12-13T15:20:45.561250",
     "status": "completed"
    },
    "tags": []
   },
   "outputs": [
    {
     "name": "stdout",
     "output_type": "stream",
     "text": [
      "   Value_1  Value_2  Value_3  Value_4  Value_5  Value_6  Value_7  Value_8  \\\n",
      "0        0        0       20        0       41        0        0        0   \n",
      "1       14       24       16        2        2        2        2        2   \n",
      "2       35       54        0       54       54       54       54       54   \n",
      "3        0        3        3        3        3        3        3        3   \n",
      "4        1        0        8        0        0       57        0        0   \n",
      "5       12        0        0       14       14       14       14       14   \n",
      "6       74        2        2        3        3        3        3        3   \n",
      "7       65       54       54        0        0        0        1        0   \n",
      "8        0        3        3        0        0        0        0       90   \n",
      "9        1        0        0        6        6        6        6        6   \n",
      "\n",
      "   Value_9  \n",
      "0        0  \n",
      "1        2  \n",
      "2       54  \n",
      "3        3  \n",
      "4        0  \n",
      "5       14  \n",
      "6        3  \n",
      "7      121  \n",
      "8        0  \n",
      "9        6  \n"
     ]
    }
   ],
   "source": [
    "df = SimpleImputer(df, \"kuch_bhi\")\n",
    "print (df)"
   ]
  }
 ],
 "metadata": {
  "kaggle": {
   "accelerator": "none",
   "dataSources": [],
   "dockerImageVersionId": 30626,
   "isGpuEnabled": false,
   "isInternetEnabled": true,
   "language": "python",
   "sourceType": "notebook"
  },
  "kernelspec": {
   "display_name": "Python 3",
   "language": "python",
   "name": "python3"
  },
  "language_info": {
   "codemirror_mode": {
    "name": "ipython",
    "version": 3
   },
   "file_extension": ".py",
   "mimetype": "text/x-python",
   "name": "python",
   "nbconvert_exporter": "python",
   "pygments_lexer": "ipython3",
   "version": "3.10.12"
  },
  "papermill": {
   "default_parameters": {},
   "duration": 5.177302,
   "end_time": "2023-12-13T15:20:46.116844",
   "environment_variables": {},
   "exception": null,
   "input_path": "__notebook__.ipynb",
   "output_path": "__notebook__.ipynb",
   "parameters": {},
   "start_time": "2023-12-13T15:20:40.939542",
   "version": "2.4.0"
  }
 },
 "nbformat": 4,
 "nbformat_minor": 5
}
